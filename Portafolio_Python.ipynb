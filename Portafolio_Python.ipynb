{
  "nbformat": 4,
  "nbformat_minor": 0,
  "metadata": {
    "colab": {
      "provenance": [],
      "authorship_tag": "ABX9TyO4UEagaY6aH+ps4AOpOG5S",
      "include_colab_link": true
    },
    "kernelspec": {
      "name": "python3",
      "display_name": "Python 3"
    },
    "language_info": {
      "name": "python"
    }
  },
  "cells": [
    {
      "cell_type": "markdown",
      "metadata": {
        "id": "view-in-github",
        "colab_type": "text"
      },
      "source": [
        "<a href=\"https://colab.research.google.com/github/PabloMendozaCoste/FreeCodeCamp/blob/main/Portafolio_Python.ipynb\" target=\"_parent\"><img src=\"https://colab.research.google.com/assets/colab-badge.svg\" alt=\"Open In Colab\"/></a>"
      ]
    },
    {
      "cell_type": "markdown",
      "metadata": {
        "id": "ljAvFIXsUBft"
      },
      "source": [
        "\n",
        "Promedio\n",
        "\n",
        "\n"
      ]
    },
    {
      "cell_type": "code",
      "metadata": {
        "id": "5IbhomPjwa09"
      },
      "source": [
        "\n",
        "num1=int(input(\"Introduzca un numero \"));\n",
        "num2=int(input(\"Introduzca un numero \"));\n",
        "num3=int(input(\"Introduzca un numero \"));\n",
        "\n",
        "x=num1+num2+num3\n",
        "\n",
        "print(\"El promedio es:\",x/3)\n",
        "\n"
      ],
      "execution_count": null,
      "outputs": []
    },
    {
      "cell_type": "markdown",
      "metadata": {
        "id": "rThILeNU8Eby"
      },
      "source": [
        "Estructuras selectivas"
      ]
    },
    {
      "cell_type": "markdown",
      "metadata": {
        "id": "COP5eYbNSddf"
      },
      "source": [
        "Utilizando la estructura selectivas: if, elif y else\n",
        "\n",
        "Niño menores de 5 años, entran gratis.  Niño de 6 a 12 años pagara un 50% de descuento y de 13 años en adelante es tarifa de adulto, pagara 100 dolares.  Se desplegara por pantalla.  Cuantos años tiene? y cualquiera de estas opciones: Tarifa para niños, gratis.   Tarifa de menores de 12 años , pagara un 50%. Tarifa de adulto, pagara 100 dolares. "
      ]
    },
    {
      "cell_type": "code",
      "metadata": {
        "id": "WBlXjMkC8Jzp"
      },
      "source": [
        "edad=int(input(\"Cuantos años tiene? \"));\n",
        "precio=100;\n",
        "\n",
        "if edad<=5:\n",
        "  print(\"Tarifa para niños, gratis\"); \n",
        "\n",
        "elif edad>=6 and edad<=12:\n",
        "  print(\"Tarifa para adolesentes, 50% 0FF, \"\"Total:\", \"$\",precio/2);\n",
        "\n",
        "else:\n",
        "  print(\"Tarifa para adultos, \"\"total:\", \"$\",precio);"
      ],
      "execution_count": null,
      "outputs": []
    },
    {
      "cell_type": "markdown",
      "metadata": {
        "id": "KGHfAlmCQG7h"
      },
      "source": []
    },
    {
      "cell_type": "markdown",
      "metadata": {
        "id": "RMP7k2OfarmT"
      },
      "source": [
        "Determinar la cantidad a pagar por el cliente en un establecimiento comercial, comprando un producto X que tiene los siguientes descuento.\n",
        "\n",
        "\n",
        "\n",
        "*   De 1 a 2 libras, 0% descuento\n",
        "*   De 2.1 a 3 libras, 5% de descuento\n",
        "*   De 3.1 a 5 libras, 10% descuento\n",
        "*   De 5.1 a 10 libras, 15% de descuento\n",
        "*   De 10.1 a 15 libras, 20% de descuento.\n",
        "\n",
        "\n",
        "\n",
        "\n",
        "\n",
        "\n",
        "\n",
        "\n"
      ]
    },
    {
      "cell_type": "code",
      "metadata": {
        "id": "9f9pPZyuatlD"
      },
      "source": [
        "print(\"Bienvenido a Supermercado ST\")\n",
        "peso=int(input(\"Introduzca el peso de su producto: \"));\n",
        "\n",
        "if peso>=1 and peso<=2:\n",
        "  print(\"De 1 a 2 libras, 0% descuento.\"); \n",
        "\n",
        "elif peso>=2.1 and peso<=3:\n",
        "  print(\"De 2.1 a 3 libras, 5% de descuento\");\n",
        "\n",
        "elif peso>=3.1 and peso<=5:\n",
        "  print(\"De 3.1 a 5 libras, 10% descuento\");\n",
        "\n",
        "elif peso>=5.1 and peso<=10:\n",
        "  print(\"De 5.1 a 10 libras, 15% de descuento\");\n",
        "\n",
        "elif peso>=10.1 and peso<=15 :\n",
        "  print(\"De 10.1 a 15 libras, 20% de descuento.\")\n",
        "\n",
        "\n"
      ],
      "execution_count": null,
      "outputs": []
    },
    {
      "cell_type": "markdown",
      "metadata": {
        "id": "cHGGSrGOZnQD"
      },
      "source": [
        "Realizar un Menu que Agregue, Muestre y Borre estudiantes \"ABM\""
      ]
    },
    {
      "cell_type": "code",
      "metadata": {
        "id": "ExPh_HBnZrQa"
      },
      "source": [
        "x =0;\n",
        "dt=[\"Pablo\",\"Luis\",\"Pedro\"];\n",
        "d=0\n",
        "y=0\n",
        "t=\"\"\n",
        "print(\"Bienvenidos\");\n",
        "\n",
        "\n",
        "for y in range(10000):\n",
        "  opt=int(input(\"\\n\" \"Eliga una opcion:\" \" \\n \" \"1.Agregar\" \" \\n \" \"2.Borrar\" \" \\n \" \"3.Mostrar  \" \"\\n\" \" 4.Salir \" \"\\n\"));\n",
        "\n",
        "  if opt==1:\n",
        "    t=input(\"Agregue un estudiante \");\n",
        "    dt.append(t)\n",
        "    continue\n",
        "\n",
        "  elif opt==2:\n",
        "    d=input(\"Introduzca el nombre del estudiante que desea borrar \\n\")\n",
        "    for x in dt:\n",
        "      if x == d:\n",
        "          dt.remove(d)\n",
        "\n",
        "  elif opt==3:\n",
        "    print(\"\\n\")\n",
        "    for x in dt:\n",
        "      print(x)\n",
        "\n",
        "  elif opt>=4 :\n",
        "    break\n"
      ],
      "execution_count": null,
      "outputs": []
    },
    {
      "cell_type": "markdown",
      "metadata": {
        "id": "un3U4V2s_WpE"
      },
      "source": [
        "Hace un programa que imprima los numeros del 1 al 100 con un incremento de 10 \n",
        "\n"
      ]
    },
    {
      "cell_type": "code",
      "metadata": {
        "id": "YFQEbXR8_cDr"
      },
      "source": [
        "print(\"While\")\n",
        "i = 10\n",
        "while i < 110:\n",
        "  print(i)\n",
        "  i += 10;\n",
        "\n",
        "print(\"\\t \\t\")\n",
        "\n",
        "print(\"For\")\n",
        "nums = [10,20,30,40,50,60,70,80,90,100]\n",
        "for n in nums:\n",
        "    print(n)\n",
        "  \n"
      ],
      "execution_count": null,
      "outputs": []
    },
    {
      "cell_type": "markdown",
      "metadata": {
        "id": "_TG4SLI4TNQT"
      },
      "source": [
        "Hace un programa que permita selecionar tres opciones de un menu.\n",
        "\n",
        "\n",
        "\n",
        "1.   Primera opcion que imprima los numeros de 1 al 50.\n",
        "2.   Que imprima los numeros del 1 al 60\n",
        "3.   Salir\n",
        " \n",
        "Debe de tener Bucles y funciones"
      ]
    },
    {
      "cell_type": "code",
      "metadata": {
        "id": "NrG-S5Z2TP_y"
      },
      "source": [
        "def menu():\n",
        "  opt=int(input(\"\\n\" \"Eliga una opcion:\" \" \\n \" \"1. Primera opcion que imprima los numeros de 1 al 50.\" \" \\n \" \"2. Que imprima los numeros del 1 al 60.\" \" \\n \" \"3. Salir  \"\" \\n \"))\n",
        "  return x\n",
        "\n",
        "def uno_cincuenta():\n",
        "  for x in range(51):\n",
        "      print(x)\n",
        "      \n",
        "\n",
        "def uno_sesenta():\n",
        "  for x in range(61):\n",
        "      print(x)\n",
        "      \n",
        "y=0\n",
        "\n",
        "\n",
        "for y in range(10000):\n",
        "  opt=int(input(\"\\n\" \"Eliga una opcion:\" \" \\n \" \"1. Primera opcion que imprima los numeros de 1 al 50.\" \" \\n \" \"2. Que imprima los numeros del 1 al 60.\" \" \\n \" \"3. Salir  \"\" \\n \"));\n",
        "\n",
        "  if opt==1:\n",
        "    uno_cincuenta()\n",
        "    continue\n",
        "\n",
        "  elif opt==2:\n",
        "    uno_sesenta()\n",
        "\n",
        "  elif opt>=3 :\n",
        "    break\n",
        "\n",
        "\n",
        "\n",
        "\n",
        "\n",
        "\n",
        "\n",
        "\n",
        "\n",
        "\n",
        "\n",
        "\n"
      ],
      "execution_count": null,
      "outputs": []
    },
    {
      "cell_type": "markdown",
      "metadata": {
        "id": "FZssGa5ah4XG"
      },
      "source": [
        "Fibonacci"
      ]
    },
    {
      "cell_type": "code",
      "metadata": {
        "id": "QKy6i3N1ir_m"
      },
      "source": [
        "y=int(input(\"Cuantos numeros de la sucecion del fibonacci desea imprimir\"))\n",
        "\n",
        "def fibonacci():\n",
        "  p1=0\n",
        "  p2=1\n",
        "  p3=0\n",
        "  for x in range(y):\n",
        "    \n",
        "    p1=p2\n",
        "    p2=p3\n",
        "    p3=p1 + p2\n",
        "    print(p3)\n",
        "\n",
        "fibonacci()"
      ],
      "execution_count": null,
      "outputs": []
    },
    {
      "cell_type": "markdown",
      "metadata": {
        "id": "r5K0LcGPpQyG"
      },
      "source": [
        "Presentacion "
      ]
    },
    {
      "cell_type": "code",
      "metadata": {
        "id": "ThSg6VuWpVtd"
      },
      "source": [
        "def present(nombre, carrera):\n",
        "  print(\"Buenos dias a tod@s\")\n",
        "  print(\"Mi\",nombre,\"soy esdudiante del ITLA,estoy estudiando el tec.\",tecnico)\n",
        "\n",
        "\n",
        "nombre = input(\"Introduzca su nombre completo, por favor \" )\n",
        "tecnico = input(\"Introduzca su tecnico \" )\n",
        " \n",
        "present(nombre, tecnico)\n",
        "\n",
        "\n",
        "\n",
        "\n"
      ],
      "execution_count": null,
      "outputs": []
    },
    {
      "cell_type": "markdown",
      "metadata": {
        "id": "_ohU-a45QLp7"
      },
      "source": [
        "Realizar un programa para hecer una calculadora utilizando funciones en cada operacion"
      ]
    },
    {
      "cell_type": "code",
      "metadata": {
        "id": "OukS4wQEQMWe"
      },
      "source": [
        "\n",
        "def suma(n1,n2):\n",
        "  total=n1+n2\n",
        "  print(\"El totla:\", total)\n",
        "\n",
        "def resta(n1,n2):\n",
        "  total=n1-n2\n",
        "  print(\"El totla:\", total)\n",
        "\n",
        "def mult(n1,n2):\n",
        "  total=n1*n2\n",
        "  print(\"El totla:\", total)\n",
        "\n",
        "def div(n1,n2):\n",
        "  total=n1/n2\n",
        "  print(\"El totla:\", total)\n",
        "\n",
        "\n",
        "\n",
        "for y in range(10000):\n",
        "  opt=int(input(\"\\n\" \"Eliga una opcion:\" \" \\n \" \"1. Suma\" \" \\n \" \"2.Resta\" \" \\n \" \"3.Multiplicacion  \"\" \\n \"\"4.Divicion  \"\" \\n \"))\n",
        "\n",
        "  n1= int(input(\"Introduzca su primer numero \"))\n",
        "  n2= int(input(\"Introduzca su segundo numero \"))\n",
        "\n",
        "  if opt==1:\n",
        "    suma(n1,n2)\n",
        "    continue\n",
        "\n",
        "  elif opt==2:\n",
        "    resta(n1,n2)\n",
        "\n",
        "  elif opt==3 :\n",
        "    mult(n1,n2)\n",
        "\n",
        "  elif opt==4 :\n",
        "    div(n1,n2)\n",
        "\n",
        "  elif opt==5 :\n",
        "    break\n",
        "\n"
      ],
      "execution_count": null,
      "outputs": []
    },
    {
      "cell_type": "markdown",
      "source": [
        "Encontrar el numero PI, con una funcion random de 0 a 1 de rango"
      ],
      "metadata": {
        "id": "bnX6A8SxsGsv"
      }
    },
    {
      "cell_type": "code",
      "source": [
        "import random\n",
        "\n",
        "\n",
        "def estimate_pi(n):\n",
        "  num_point_circle=0\n",
        "  num_point_total=0\n",
        "  for _ in range(n):\n",
        "    x = random.uniform(0,1)\n",
        "    y = random.uniform(0,1)\n",
        "    distance = x**2 + y**2\n",
        "    if distance <= 1:\n",
        "      num_point_circle +=1\n",
        "    num_point_total +=1\n",
        "\n",
        "  print(\"\\n\",\"N total of points in the circle: \",num_point_circle,\"\\n\", \"N total of points outside the circle: \",num_point_total)\n",
        "  return \"PI is :\", 4 * num_point_circle/num_point_total\n",
        "\n",
        "\n",
        "\n",
        "estimate_pi(100000000)\n",
        "  \n"
      ],
      "metadata": {
        "id": "71SyhJd5sQwa"
      },
      "execution_count": null,
      "outputs": []
    }
  ]
}